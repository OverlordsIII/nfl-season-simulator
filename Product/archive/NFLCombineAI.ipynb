{
 "cells": [
  {
   "cell_type": "code",
   "execution_count": null,
   "metadata": {},
   "source": [
    "!py -m pip install tensorflow pandas numpy matplotlib"
   ],
   "outputs": []
  },
  {
   "cell_type": "code",
   "execution_count": null,
   "metadata": {
    "colab": {
     "base_uri": "https://localhost:8080/"
    },
    "id": "969jxnNts4rC",
    "outputId": "b61912ca-160c-497b-cfdf-a377498d7ff7"
   },
   "source": [
    "import pandas as pd\n",
    "import requests\n",
    "import re\n",
    "import numpy as np\n",
    "\n",
    "def url_getter(year):\n",
    "  return \"https://www.pro-football-reference.com/draft/\" + str(year) + \"-combine.htm\"\n",
    "\n",
    "def combine_draft_scraper(start_year, end_year):\n",
    "  for i in range(start_year, end_year+1):\n",
    "    request = requests.get(url_getter(i))\n",
    "    try:\n",
    "      raw = pd.read_html(request.text)\n",
    "    except:\n",
    "      print(request.text)\n",
    "      break\n",
    "    df = raw[0]\n",
    "    df = df.drop(['College'], axis=1)\n",
    "    temp_pick_num = []\n",
    "    temp_pick_year = []\n",
    "    for index, t in df.iterrows():\n",
    "      if t['Player'] == \"Player\":\n",
    "        df.drop(index=index, axis=0, inplace=True)\n",
    "      else:\n",
    "        # print(type(t[\"Drafted (tm/rnd/yr)\"]))\n",
    "        if not t.isna()[t.size-1] == True:\n",
    "          year = ''.join(a for a in str(t[\"Drafted (tm/rnd/yr)\"]).split(\" / \")[1] if a.isdigit())\n",
    "          temp_pick_num.append(year)\n",
    "          print(str(t[\"Drafted (tm/rnd/yr)\"]).split(\"/\")[3])\n",
    "          temp_pick_year.append(int(str(t[\"Drafted (tm/rnd/yr)\"]).split(\"/\")[3]))\n",
    "        else:\n",
    "          temp_pick_num.append(str(0))\n",
    "          temp_pick_year.append(str(-1))\n",
    "        htstr = str(t[\"Ht\"]).split('-')\n",
    "        if not t.isna()['Ht']:\n",
    "          df.loc[index, 'Ht'] = (int(htstr[0]) * 12) + int(htstr[1])\n",
    "    df = df.drop(columns=['Drafted (tm/rnd/yr)'])\n",
    "    # print(temp_pick_num);\n",
    "    df[\"Pick Number\"] = pd.Series(temp_pick_num)\n",
    "    df[\"Pick Year\"] = pd.Series(temp_pick_year)\n",
    "    df.to_csv(str(i) + \".csv\")\n",
    "\n",
    "combine_draft_scraper(2000, 2020)\n",
    "\n"
   ],
   "outputs": []
  },
  {
   "cell_type": "code",
   "execution_count": null,
   "metadata": {
    "colab": {
     "base_uri": "https://localhost:8080/",
     "height": 1000
    },
    "id": "6_WMjftlS-ms",
    "outputId": "8057df71-4984-42a2-e34b-f03ecaaf0d2f"
   },
   "source": [
    "import pandas as pd\n",
    "import numpy as np\n",
    "import tensorflow as tf\n",
    "from sklearn.impute import KNNImputer\n",
    "df = pd.read_csv(\"2000.csv\")\n",
    "\n",
    "#train on 80 percent of data\n",
    "for i in range(2001, 2011):\n",
    "  df = pd.concat([df, pd.read_csv(str(i) + \".csv\")])\n",
    "\n",
    "# df_validate = pd.read_csv(\"2011.csv\");\n",
    "\n",
    "# for i in range(2012, 2022):\n",
    "#   df_validate = pd.concat([df, pd.read_csv(str(i) + \".csv\")])\n",
    "\n",
    "df = df[:2000]\n",
    "# df_validate = df_validate[:2000]\n",
    "\n",
    "for index, row in df.iterrows():\n",
    "  if (row[\"Pick Number\"] > 7) or (row[\"Pick Number\"] <= 0):\n",
    "    df = df.drop(, axis=0)\n",
    "    print(\"test\")\n",
    "df_values = df[\"Pick Number\"];\n",
    "\n",
    "#remove useless data\n",
    "df = df.drop(['School'], axis=1)\n",
    "df = df.drop(['Pos'], axis=1)\n",
    "df = df.drop(['Pick Year'], axis=1)\n",
    "df = df.drop(['Player'], axis=1)\n",
    "df = df.drop(['Unnamed: 0'], axis=1)\n",
    "\n",
    "# df_validate = df_validate.drop(['School'], axis=1)\n",
    "# df_validate = df_validate.drop(['Pos'], axis=1)\n",
    "# df_validate = df_validate.drop(['Pick Year'], axis=1)\n",
    "# df_validate = df_validate.drop(['Player'], axis=1)\n",
    "# df_validate = df_validate.drop(['Unnamed: 0'], axis=1)\n",
    "\n",
    "#no answers in training data\n",
    "df = df.drop(['Pick Number'], axis=1)\n",
    "# df_validate = df_validate.drop(['Pick Number'], axis=1)\n",
    "\n",
    "#training\n",
    "model = tf.keras.Sequential([\n",
    "    tf.keras.layers.Normalization(axis=None, input_shape=(8,)),\n",
    "    tf.keras.layers.Dense(128, activation='relu'),\n",
    "    tf.keras.layers.Dense(128, activation='relu'),\n",
    "    tf.keras.layers.Dense(8)\n",
    "])\n",
    "\n",
    "df = KNNImputer(n_neighbors=5).fit_transform(df)\n",
    "df = tf.convert_to_tensor(df, dtype=tf.float32)\n",
    "# df_validate = KNNImputer(n_neighbors=5).fit_transform(df_validate)\n",
    "# df_validate = tf.convert_to_tensor(df_validate, dtype=tf.float32)\n",
    "# df_values = tf.convert_to_tensor(df_values, dtype=tf.float32)\n",
    "# df_validate_values = tf.convert_to_tensor(df_validate_values, dtype=tf.float32)\n",
    "model.compile(optimizer='adam',\n",
    "              loss=tf.keras.losses.SparseCategoricalCrossentropy(from_logits=True),\n",
    "              metrics=['accuracy'])\n",
    "\n",
    "model.fit(df, df_values, epochs=10)"
   ],
   "outputs": []
  },
  {
   "cell_type": "code",
   "execution_count": null,
   "metadata": {
    "colab": {
     "base_uri": "https://localhost:8080/",
     "height": 376
    },
    "id": "lE1dQM-fZHOq",
    "outputId": "13f5cc74-1722-46ee-da25-98bf406b0533"
   },
   "source": [
    "!pip install -U scikit-learn\n"
   ],
   "outputs": []
  },
  {
   "cell_type": "code",
   "execution_count": null,
   "metadata": {
    "id": "eOeW3Mxxu0AP"
   },
   "source": [
    "!rm -rf *"
   ],
   "outputs": []
  }
 ],
 "metadata": {
  "accelerator": "GPU",
  "colab": {
   "gpuType": "T4",
   "provenance": []
  },
  "kernelspec": {
   "display_name": "Python 3",
   "name": "python3"
  },
  "language_info": {
   "name": "python"
  }
 },
 "nbformat": 4,
 "nbformat_minor": 0
}
