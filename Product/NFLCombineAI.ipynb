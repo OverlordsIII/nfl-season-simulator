{
  "cells": [
    {
      "cell_type": "code",
      "execution_count": null,
      "metadata": {},
      "outputs": [],
      "source": [
        "!py -m pip install tensorflow pandas numpy matplotlib"
      ]
    },
    {
      "cell_type": "code",
      "execution_count": null,
      "metadata": {
        "colab": {
          "base_uri": "https://localhost:8080/"
        },
        "id": "969jxnNts4rC",
        "outputId": "b61912ca-160c-497b-cfdf-a377498d7ff7"
      },
      "outputs": [],
      "source": [
        "import pandas as pd\n",
        "import requests\n",
        "import re\n",
        "import numpy as np\n",
        "\n",
        "def url_getter(year):\n",
        "  return \"https://www.pro-football-reference.com/draft/\" + str(year) + \"-combine.htm\"\n",
        "\n",
        "def combine_draft_scraper(start_year, end_year):\n",
        "  for i in range(start_year, end_year+1):\n",
        "    request = requests.get(url_getter(i))\n",
        "    try:\n",
        "      raw = pd.read_html(request.text)\n",
        "    except:\n",
        "      print(request.text)\n",
        "      break\n",
        "    df = raw[0]\n",
        "    df = df.drop(['College'], axis=1)\n",
        "    temp_pick_num = []\n",
        "    temp_pick_year = []\n",
        "    for index, t in df.iterrows():\n",
        "      if t['Player'] == \"Player\":\n",
        "        df.drop(index=index, axis=0, inplace=True)\n",
        "      else:\n",
        "        # print(type(t[\"Drafted (tm/rnd/yr)\"]))\n",
        "        if not t.isna()[t.size-1] == True:\n",
        "          year = ''.join(a for a in str(t[\"Drafted (tm/rnd/yr)\"]).split(\" / \")[1] if a.isdigit())\n",
        "          temp_pick_num.append(year)\n",
        "          print(str(t[\"Drafted (tm/rnd/yr)\"]).split(\"/\")[3])\n",
        "          temp_pick_year.append(int(str(t[\"Drafted (tm/rnd/yr)\"]).split(\"/\")[3]))\n",
        "        else:\n",
        "          temp_pick_num.append(str(0))\n",
        "          temp_pick_year.append(str(-1))\n",
        "        htstr = str(t[\"Ht\"]).split('-')\n",
        "        if not t.isna()['Ht']:\n",
        "          df.loc[index, 'Ht'] = (int(htstr[0]) * 12) + int(htstr[1])\n",
        "    df = df.drop(columns=['Drafted (tm/rnd/yr)'])\n",
        "    # print(temp_pick_num);\n",
        "    df[\"Pick Number\"] = pd.Series(temp_pick_num)\n",
        "    df[\"Pick Year\"] = pd.Series(temp_pick_year)\n",
        "    df.to_csv(str(i) + \".csv\")\n",
        "\n",
        "combine_draft_scraper(2000, 2020)\n",
        "\n"
      ]
    },
    {
      "cell_type": "code",
      "execution_count": null,
      "metadata": {
        "colab": {
          "base_uri": "https://localhost:8080/",
          "height": 1000
        },
        "id": "6_WMjftlS-ms",
        "outputId": "8057df71-4984-42a2-e34b-f03ecaaf0d2f"
      },
      "outputs": [
        {
          "name": "stdout",
          "output_type": "stream",
          "text": [
            "test\n",
            "test\n",
            "test\n",
            "test\n",
            "test\n",
            "test\n",
            "test\n",
            "test\n",
            "test\n",
            "test\n",
            "test\n",
            "test\n",
            "test\n",
            "test\n",
            "test\n",
            "test\n",
            "test\n",
            "test\n",
            "test\n",
            "test\n",
            "test\n",
            "test\n",
            "test\n",
            "test\n",
            "test\n",
            "test\n",
            "test\n",
            "test\n",
            "test\n",
            "test\n",
            "test\n",
            "test\n",
            "test\n",
            "test\n",
            "test\n",
            "test\n",
            "test\n",
            "test\n",
            "test\n",
            "test\n",
            "test\n",
            "test\n",
            "test\n",
            "test\n",
            "test\n",
            "test\n",
            "test\n",
            "test\n",
            "test\n",
            "test\n",
            "test\n",
            "test\n",
            "test\n",
            "test\n",
            "test\n",
            "test\n",
            "test\n",
            "test\n",
            "test\n",
            "test\n",
            "test\n",
            "test\n",
            "test\n",
            "test\n",
            "test\n",
            "test\n",
            "test\n",
            "test\n",
            "test\n",
            "test\n",
            "test\n",
            "test\n",
            "test\n",
            "test\n",
            "test\n",
            "test\n",
            "test\n",
            "test\n",
            "test\n",
            "test\n",
            "test\n",
            "test\n",
            "test\n",
            "test\n",
            "test\n",
            "test\n",
            "test\n",
            "test\n",
            "test\n",
            "test\n",
            "test\n",
            "test\n",
            "test\n",
            "test\n",
            "test\n",
            "test\n",
            "test\n",
            "test\n",
            "test\n",
            "test\n",
            "test\n",
            "test\n",
            "test\n",
            "test\n",
            "test\n",
            "test\n",
            "test\n",
            "test\n",
            "test\n",
            "test\n",
            "test\n",
            "test\n",
            "test\n",
            "test\n",
            "test\n",
            "test\n",
            "test\n",
            "test\n",
            "test\n"
          ]
        },
        {
          "ename": "KeyError",
          "evalue": "'[3] not found in axis'",
          "output_type": "error",
          "traceback": [
            "\u001b[0;31m---------------------------------------------------------------------------\u001b[0m",
            "\u001b[0;31mKeyError\u001b[0m                                  Traceback (most recent call last)",
            "\u001b[0;32m<ipython-input-7-b40905658fd9>\u001b[0m in \u001b[0;36m<cell line: 19>\u001b[0;34m()\u001b[0m\n\u001b[1;32m     19\u001b[0m \u001b[0;32mfor\u001b[0m \u001b[0mindex\u001b[0m\u001b[0;34m,\u001b[0m \u001b[0mrow\u001b[0m \u001b[0;32min\u001b[0m \u001b[0mdf\u001b[0m\u001b[0;34m.\u001b[0m\u001b[0miterrows\u001b[0m\u001b[0;34m(\u001b[0m\u001b[0;34m)\u001b[0m\u001b[0;34m:\u001b[0m\u001b[0;34m\u001b[0m\u001b[0;34m\u001b[0m\u001b[0m\n\u001b[1;32m     20\u001b[0m   \u001b[0;32mif\u001b[0m \u001b[0;34m(\u001b[0m\u001b[0mrow\u001b[0m\u001b[0;34m[\u001b[0m\u001b[0;34m\"Pick Number\"\u001b[0m\u001b[0;34m]\u001b[0m \u001b[0;34m>\u001b[0m \u001b[0;36m7\u001b[0m\u001b[0;34m)\u001b[0m \u001b[0;32mor\u001b[0m \u001b[0;34m(\u001b[0m\u001b[0mrow\u001b[0m\u001b[0;34m[\u001b[0m\u001b[0;34m\"Pick Number\"\u001b[0m\u001b[0;34m]\u001b[0m \u001b[0;34m<=\u001b[0m \u001b[0;36m0\u001b[0m\u001b[0;34m)\u001b[0m\u001b[0;34m:\u001b[0m\u001b[0;34m\u001b[0m\u001b[0;34m\u001b[0m\u001b[0m\n\u001b[0;32m---> 21\u001b[0;31m     \u001b[0mdf\u001b[0m \u001b[0;34m=\u001b[0m \u001b[0mdf\u001b[0m\u001b[0;34m.\u001b[0m\u001b[0mdrop\u001b[0m\u001b[0;34m(\u001b[0m\u001b[0mindex\u001b[0m\u001b[0;34m,\u001b[0m \u001b[0maxis\u001b[0m\u001b[0;34m=\u001b[0m\u001b[0;36m0\u001b[0m\u001b[0;34m)\u001b[0m\u001b[0;34m\u001b[0m\u001b[0;34m\u001b[0m\u001b[0m\n\u001b[0m\u001b[1;32m     22\u001b[0m     \u001b[0mprint\u001b[0m\u001b[0;34m(\u001b[0m\u001b[0;34m\"test\"\u001b[0m\u001b[0;34m)\u001b[0m\u001b[0;34m\u001b[0m\u001b[0;34m\u001b[0m\u001b[0m\n\u001b[1;32m     23\u001b[0m \u001b[0mdf_values\u001b[0m \u001b[0;34m=\u001b[0m \u001b[0mdf\u001b[0m\u001b[0;34m[\u001b[0m\u001b[0;34m\"Pick Number\"\u001b[0m\u001b[0;34m]\u001b[0m\u001b[0;34m;\u001b[0m\u001b[0;34m\u001b[0m\u001b[0;34m\u001b[0m\u001b[0m\n",
            "\u001b[0;32m/usr/local/lib/python3.10/dist-packages/pandas/core/frame.py\u001b[0m in \u001b[0;36mdrop\u001b[0;34m(self, labels, axis, index, columns, level, inplace, errors)\u001b[0m\n\u001b[1;32m   5256\u001b[0m                 \u001b[0mweight\u001b[0m  \u001b[0;36m1.0\u001b[0m     \u001b[0;36m0.8\u001b[0m\u001b[0;34m\u001b[0m\u001b[0;34m\u001b[0m\u001b[0m\n\u001b[1;32m   5257\u001b[0m         \"\"\"\n\u001b[0;32m-> 5258\u001b[0;31m         return super().drop(\n\u001b[0m\u001b[1;32m   5259\u001b[0m             \u001b[0mlabels\u001b[0m\u001b[0;34m=\u001b[0m\u001b[0mlabels\u001b[0m\u001b[0;34m,\u001b[0m\u001b[0;34m\u001b[0m\u001b[0;34m\u001b[0m\u001b[0m\n\u001b[1;32m   5260\u001b[0m             \u001b[0maxis\u001b[0m\u001b[0;34m=\u001b[0m\u001b[0maxis\u001b[0m\u001b[0;34m,\u001b[0m\u001b[0;34m\u001b[0m\u001b[0;34m\u001b[0m\u001b[0m\n",
            "\u001b[0;32m/usr/local/lib/python3.10/dist-packages/pandas/core/generic.py\u001b[0m in \u001b[0;36mdrop\u001b[0;34m(self, labels, axis, index, columns, level, inplace, errors)\u001b[0m\n\u001b[1;32m   4547\u001b[0m         \u001b[0;32mfor\u001b[0m \u001b[0maxis\u001b[0m\u001b[0;34m,\u001b[0m \u001b[0mlabels\u001b[0m \u001b[0;32min\u001b[0m \u001b[0maxes\u001b[0m\u001b[0;34m.\u001b[0m\u001b[0mitems\u001b[0m\u001b[0;34m(\u001b[0m\u001b[0;34m)\u001b[0m\u001b[0;34m:\u001b[0m\u001b[0;34m\u001b[0m\u001b[0;34m\u001b[0m\u001b[0m\n\u001b[1;32m   4548\u001b[0m             \u001b[0;32mif\u001b[0m \u001b[0mlabels\u001b[0m \u001b[0;32mis\u001b[0m \u001b[0;32mnot\u001b[0m \u001b[0;32mNone\u001b[0m\u001b[0;34m:\u001b[0m\u001b[0;34m\u001b[0m\u001b[0;34m\u001b[0m\u001b[0m\n\u001b[0;32m-> 4549\u001b[0;31m                 \u001b[0mobj\u001b[0m \u001b[0;34m=\u001b[0m \u001b[0mobj\u001b[0m\u001b[0;34m.\u001b[0m\u001b[0m_drop_axis\u001b[0m\u001b[0;34m(\u001b[0m\u001b[0mlabels\u001b[0m\u001b[0;34m,\u001b[0m \u001b[0maxis\u001b[0m\u001b[0;34m,\u001b[0m \u001b[0mlevel\u001b[0m\u001b[0;34m=\u001b[0m\u001b[0mlevel\u001b[0m\u001b[0;34m,\u001b[0m \u001b[0merrors\u001b[0m\u001b[0;34m=\u001b[0m\u001b[0merrors\u001b[0m\u001b[0;34m)\u001b[0m\u001b[0;34m\u001b[0m\u001b[0;34m\u001b[0m\u001b[0m\n\u001b[0m\u001b[1;32m   4550\u001b[0m \u001b[0;34m\u001b[0m\u001b[0m\n\u001b[1;32m   4551\u001b[0m         \u001b[0;32mif\u001b[0m \u001b[0minplace\u001b[0m\u001b[0;34m:\u001b[0m\u001b[0;34m\u001b[0m\u001b[0;34m\u001b[0m\u001b[0m\n",
            "\u001b[0;32m/usr/local/lib/python3.10/dist-packages/pandas/core/generic.py\u001b[0m in \u001b[0;36m_drop_axis\u001b[0;34m(self, labels, axis, level, errors, only_slice)\u001b[0m\n\u001b[1;32m   4618\u001b[0m                 \u001b[0mlabels_missing\u001b[0m \u001b[0;34m=\u001b[0m \u001b[0;34m(\u001b[0m\u001b[0maxis\u001b[0m\u001b[0;34m.\u001b[0m\u001b[0mget_indexer_for\u001b[0m\u001b[0;34m(\u001b[0m\u001b[0mlabels\u001b[0m\u001b[0;34m)\u001b[0m \u001b[0;34m==\u001b[0m \u001b[0;34m-\u001b[0m\u001b[0;36m1\u001b[0m\u001b[0;34m)\u001b[0m\u001b[0;34m.\u001b[0m\u001b[0many\u001b[0m\u001b[0;34m(\u001b[0m\u001b[0;34m)\u001b[0m\u001b[0;34m\u001b[0m\u001b[0;34m\u001b[0m\u001b[0m\n\u001b[1;32m   4619\u001b[0m                 \u001b[0;32mif\u001b[0m \u001b[0merrors\u001b[0m \u001b[0;34m==\u001b[0m \u001b[0;34m\"raise\"\u001b[0m \u001b[0;32mand\u001b[0m \u001b[0mlabels_missing\u001b[0m\u001b[0;34m:\u001b[0m\u001b[0;34m\u001b[0m\u001b[0;34m\u001b[0m\u001b[0m\n\u001b[0;32m-> 4620\u001b[0;31m                     \u001b[0;32mraise\u001b[0m \u001b[0mKeyError\u001b[0m\u001b[0;34m(\u001b[0m\u001b[0;34mf\"{labels} not found in axis\"\u001b[0m\u001b[0;34m)\u001b[0m\u001b[0;34m\u001b[0m\u001b[0;34m\u001b[0m\u001b[0m\n\u001b[0m\u001b[1;32m   4621\u001b[0m \u001b[0;34m\u001b[0m\u001b[0m\n\u001b[1;32m   4622\u001b[0m             \u001b[0;32mif\u001b[0m \u001b[0mis_extension_array_dtype\u001b[0m\u001b[0;34m(\u001b[0m\u001b[0mmask\u001b[0m\u001b[0;34m.\u001b[0m\u001b[0mdtype\u001b[0m\u001b[0;34m)\u001b[0m\u001b[0;34m:\u001b[0m\u001b[0;34m\u001b[0m\u001b[0;34m\u001b[0m\u001b[0m\n",
            "\u001b[0;31mKeyError\u001b[0m: '[3] not found in axis'"
          ]
        }
      ],
      "source": [
        "import pandas as pd\n",
        "import numpy as np\n",
        "import tensorflow as tf\n",
        "from sklearn.impute import KNNImputer\n",
        "df = pd.read_csv(\"2000.csv\")\n",
        "\n",
        "#train on 80 percent of data\n",
        "for i in range(2001, 2011):\n",
        "  df = pd.concat([df, pd.read_csv(str(i) + \".csv\")])\n",
        "\n",
        "# df_validate = pd.read_csv(\"2011.csv\");\n",
        "\n",
        "# for i in range(2012, 2022):\n",
        "#   df_validate = pd.concat([df, pd.read_csv(str(i) + \".csv\")])\n",
        "\n",
        "df = df[:2000]\n",
        "# df_validate = df_validate[:2000]\n",
        "\n",
        "for index, row in df.iterrows():\n",
        "  if (row[\"Pick Number\"] > 7) or (row[\"Pick Number\"] <= 0):\n",
        "    df = df.drop(, axis=0)\n",
        "    print(\"test\")\n",
        "df_values = df[\"Pick Number\"];\n",
        "\n",
        "#remove useless data\n",
        "df = df.drop(['School'], axis=1)\n",
        "df = df.drop(['Pos'], axis=1)\n",
        "df = df.drop(['Pick Year'], axis=1)\n",
        "df = df.drop(['Player'], axis=1)\n",
        "df = df.drop(['Unnamed: 0'], axis=1)\n",
        "\n",
        "# df_validate = df_validate.drop(['School'], axis=1)\n",
        "# df_validate = df_validate.drop(['Pos'], axis=1)\n",
        "# df_validate = df_validate.drop(['Pick Year'], axis=1)\n",
        "# df_validate = df_validate.drop(['Player'], axis=1)\n",
        "# df_validate = df_validate.drop(['Unnamed: 0'], axis=1)\n",
        "\n",
        "#no answers in training data\n",
        "df = df.drop(['Pick Number'], axis=1)\n",
        "# df_validate = df_validate.drop(['Pick Number'], axis=1)\n",
        "\n",
        "#training\n",
        "model = tf.keras.Sequential([\n",
        "    tf.keras.layers.Normalization(axis=None, input_shape=(8,)),\n",
        "    tf.keras.layers.Dense(128, activation='relu'),\n",
        "    tf.keras.layers.Dense(128, activation='relu'),\n",
        "    tf.keras.layers.Dense(8)\n",
        "])\n",
        "\n",
        "df = KNNImputer(n_neighbors=5).fit_transform(df)\n",
        "df = tf.convert_to_tensor(df, dtype=tf.float32)\n",
        "# df_validate = KNNImputer(n_neighbors=5).fit_transform(df_validate)\n",
        "# df_validate = tf.convert_to_tensor(df_validate, dtype=tf.float32)\n",
        "# df_values = tf.convert_to_tensor(df_values, dtype=tf.float32)\n",
        "# df_validate_values = tf.convert_to_tensor(df_validate_values, dtype=tf.float32)\n",
        "model.compile(optimizer='adam',\n",
        "              loss=tf.keras.losses.SparseCategoricalCrossentropy(from_logits=True),\n",
        "              metrics=['accuracy'])\n",
        "\n",
        "model.fit(df, df_values, epochs=10)"
      ]
    },
    {
      "cell_type": "code",
      "execution_count": null,
      "metadata": {
        "colab": {
          "base_uri": "https://localhost:8080/",
          "height": 376
        },
        "id": "lE1dQM-fZHOq",
        "outputId": "13f5cc74-1722-46ee-da25-98bf406b0533"
      },
      "outputs": [
        {
          "name": "stdout",
          "output_type": "stream",
          "text": [
            "Requirement already satisfied: scikit-learn in /usr/local/lib/python3.10/dist-packages (1.2.2)\n",
            "Collecting scikit-learn\n",
            "  Downloading scikit_learn-1.4.2-cp310-cp310-manylinux_2_17_x86_64.manylinux2014_x86_64.whl (12.1 MB)\n",
            "\u001b[2K     \u001b[90m━━━━━━━━━━━━━━━━━━━━━━━━━━━━━━━━━━━━━━━━\u001b[0m \u001b[32m12.1/12.1 MB\u001b[0m \u001b[31m48.0 MB/s\u001b[0m eta \u001b[36m0:00:00\u001b[0m\n",
            "\u001b[?25hRequirement already satisfied: numpy>=1.19.5 in /usr/local/lib/python3.10/dist-packages (from scikit-learn) (1.25.2)\n",
            "Requirement already satisfied: scipy>=1.6.0 in /usr/local/lib/python3.10/dist-packages (from scikit-learn) (1.11.4)\n",
            "Requirement already satisfied: joblib>=1.2.0 in /usr/local/lib/python3.10/dist-packages (from scikit-learn) (1.4.2)\n",
            "Requirement already satisfied: threadpoolctl>=2.0.0 in /usr/local/lib/python3.10/dist-packages (from scikit-learn) (3.5.0)\n",
            "Installing collected packages: scikit-learn\n",
            "  Attempting uninstall: scikit-learn\n",
            "    Found existing installation: scikit-learn 1.2.2\n",
            "    Uninstalling scikit-learn-1.2.2:\n",
            "      Successfully uninstalled scikit-learn-1.2.2\n",
            "Successfully installed scikit-learn-1.4.2\n"
          ]
        },
        {
          "data": {
            "application/vnd.colab-display-data+json": {
              "id": "a123ccbb3e5c4f43b0cf0e8a648eec26",
              "pip_warning": {
                "packages": [
                  "sklearn"
                ]
              }
            }
          },
          "metadata": {},
          "output_type": "display_data"
        }
      ],
      "source": [
        "!pip install -U scikit-learn\n"
      ]
    },
    {
      "cell_type": "code",
      "execution_count": null,
      "metadata": {
        "id": "eOeW3Mxxu0AP"
      },
      "outputs": [],
      "source": [
        "!rm -rf *"
      ]
    }
  ],
  "metadata": {
    "accelerator": "GPU",
    "colab": {
      "gpuType": "T4",
      "provenance": []
    },
    "kernelspec": {
      "display_name": "Python 3",
      "name": "python3"
    },
    "language_info": {
      "name": "python"
    }
  },
  "nbformat": 4,
  "nbformat_minor": 0
}
